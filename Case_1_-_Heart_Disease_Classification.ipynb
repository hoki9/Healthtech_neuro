{
 "cells": [
  {
   "cell_type": "markdown",
   "metadata": {},
   "source": [
    "Case 1 - Heart Disease Classification\n",
    "=====================================\n",
    "Henrik Hokkanen, Simo Mäkelä  \n",
    "31.1.2020  \n",
    "Neural Networks for Health Technology Applications  \n",
    "Helsinki Metropolia University of Applied Sciences\n",
    "\n",
    "Introduction\n",
    "------------\n",
    "\n",
    "In this exercise, the aim is to create and train a dense neural network to predict the presence of heart disease using the dataset at https://archive.ics.uci.edu/ml/datasets/Heart+Disease"
   ]
  },
  {
   "cell_type": "code",
   "execution_count": 671,
   "metadata": {},
   "outputs": [],
   "source": [
    "import numpy as np\n",
    "import pandas as pd\n",
    "import matplotlib.pyplot as plt\n",
    "from sklearn.model_selection import train_test_split\n",
    "from sklearn.preprocessing import RobustScaler\n",
    "import tensorflow as tf\n",
    "from scipy.signal import savgol_filter"
   ]
  },
  {
   "cell_type": "markdown",
   "metadata": {},
   "source": [
    "Dataset\n",
    "-------\n",
    "\n",
    "Let's load the UCI Heart Disease dataset and look further into its features.\n",
    "\n",
    "The Cleveland database used here is a subset of this dataset. It has 14 attributes, contains 303 samples, and is commonly used in machine learning experiments. The presence of heart disease is distinguished by values 1, 2, 3 and 4. Value 0 denotes the absence of heart disease. It is not specified in the dataset documentation, which medical conditions are considered encompassed by \"heart disease\". The assumption is that coronary artery disease is the prevailing diagnosis in this data."
   ]
  },
  {
   "cell_type": "code",
   "execution_count": 672,
   "metadata": {},
   "outputs": [
    {
     "data": {
      "text/html": [
       "<div>\n",
       "<style scoped>\n",
       "    .dataframe tbody tr th:only-of-type {\n",
       "        vertical-align: middle;\n",
       "    }\n",
       "\n",
       "    .dataframe tbody tr th {\n",
       "        vertical-align: top;\n",
       "    }\n",
       "\n",
       "    .dataframe thead th {\n",
       "        text-align: right;\n",
       "    }\n",
       "</style>\n",
       "<table border=\"1\" class=\"dataframe\">\n",
       "  <thead>\n",
       "    <tr style=\"text-align: right;\">\n",
       "      <th></th>\n",
       "      <th>age</th>\n",
       "      <th>sex</th>\n",
       "      <th>cp</th>\n",
       "      <th>trestbps</th>\n",
       "      <th>chol</th>\n",
       "      <th>fbs</th>\n",
       "      <th>restecg</th>\n",
       "      <th>thalac</th>\n",
       "      <th>exang</th>\n",
       "      <th>oldpeak</th>\n",
       "      <th>slope</th>\n",
       "      <th>ca</th>\n",
       "      <th>thal</th>\n",
       "      <th>num</th>\n",
       "    </tr>\n",
       "  </thead>\n",
       "  <tbody>\n",
       "    <tr>\n",
       "      <td>count</td>\n",
       "      <td>303.000000</td>\n",
       "      <td>303.000000</td>\n",
       "      <td>303.000000</td>\n",
       "      <td>303.000000</td>\n",
       "      <td>303.000000</td>\n",
       "      <td>303.000000</td>\n",
       "      <td>303.000000</td>\n",
       "      <td>303.000000</td>\n",
       "      <td>303.000000</td>\n",
       "      <td>303.000000</td>\n",
       "      <td>303.000000</td>\n",
       "      <td>299.000000</td>\n",
       "      <td>301.000000</td>\n",
       "      <td>303.000000</td>\n",
       "    </tr>\n",
       "    <tr>\n",
       "      <td>mean</td>\n",
       "      <td>54.438944</td>\n",
       "      <td>0.679868</td>\n",
       "      <td>3.158416</td>\n",
       "      <td>131.689769</td>\n",
       "      <td>246.693069</td>\n",
       "      <td>0.148515</td>\n",
       "      <td>0.990099</td>\n",
       "      <td>149.607261</td>\n",
       "      <td>0.326733</td>\n",
       "      <td>1.039604</td>\n",
       "      <td>1.600660</td>\n",
       "      <td>0.672241</td>\n",
       "      <td>4.734219</td>\n",
       "      <td>0.937294</td>\n",
       "    </tr>\n",
       "    <tr>\n",
       "      <td>std</td>\n",
       "      <td>9.038662</td>\n",
       "      <td>0.467299</td>\n",
       "      <td>0.960126</td>\n",
       "      <td>17.599748</td>\n",
       "      <td>51.776918</td>\n",
       "      <td>0.356198</td>\n",
       "      <td>0.994971</td>\n",
       "      <td>22.875003</td>\n",
       "      <td>0.469794</td>\n",
       "      <td>1.161075</td>\n",
       "      <td>0.616226</td>\n",
       "      <td>0.937438</td>\n",
       "      <td>1.939706</td>\n",
       "      <td>1.228536</td>\n",
       "    </tr>\n",
       "    <tr>\n",
       "      <td>min</td>\n",
       "      <td>29.000000</td>\n",
       "      <td>0.000000</td>\n",
       "      <td>1.000000</td>\n",
       "      <td>94.000000</td>\n",
       "      <td>126.000000</td>\n",
       "      <td>0.000000</td>\n",
       "      <td>0.000000</td>\n",
       "      <td>71.000000</td>\n",
       "      <td>0.000000</td>\n",
       "      <td>0.000000</td>\n",
       "      <td>1.000000</td>\n",
       "      <td>0.000000</td>\n",
       "      <td>3.000000</td>\n",
       "      <td>0.000000</td>\n",
       "    </tr>\n",
       "    <tr>\n",
       "      <td>25%</td>\n",
       "      <td>48.000000</td>\n",
       "      <td>0.000000</td>\n",
       "      <td>3.000000</td>\n",
       "      <td>120.000000</td>\n",
       "      <td>211.000000</td>\n",
       "      <td>0.000000</td>\n",
       "      <td>0.000000</td>\n",
       "      <td>133.500000</td>\n",
       "      <td>0.000000</td>\n",
       "      <td>0.000000</td>\n",
       "      <td>1.000000</td>\n",
       "      <td>0.000000</td>\n",
       "      <td>3.000000</td>\n",
       "      <td>0.000000</td>\n",
       "    </tr>\n",
       "    <tr>\n",
       "      <td>50%</td>\n",
       "      <td>56.000000</td>\n",
       "      <td>1.000000</td>\n",
       "      <td>3.000000</td>\n",
       "      <td>130.000000</td>\n",
       "      <td>241.000000</td>\n",
       "      <td>0.000000</td>\n",
       "      <td>1.000000</td>\n",
       "      <td>153.000000</td>\n",
       "      <td>0.000000</td>\n",
       "      <td>0.800000</td>\n",
       "      <td>2.000000</td>\n",
       "      <td>0.000000</td>\n",
       "      <td>3.000000</td>\n",
       "      <td>0.000000</td>\n",
       "    </tr>\n",
       "    <tr>\n",
       "      <td>75%</td>\n",
       "      <td>61.000000</td>\n",
       "      <td>1.000000</td>\n",
       "      <td>4.000000</td>\n",
       "      <td>140.000000</td>\n",
       "      <td>275.000000</td>\n",
       "      <td>0.000000</td>\n",
       "      <td>2.000000</td>\n",
       "      <td>166.000000</td>\n",
       "      <td>1.000000</td>\n",
       "      <td>1.600000</td>\n",
       "      <td>2.000000</td>\n",
       "      <td>1.000000</td>\n",
       "      <td>7.000000</td>\n",
       "      <td>2.000000</td>\n",
       "    </tr>\n",
       "    <tr>\n",
       "      <td>max</td>\n",
       "      <td>77.000000</td>\n",
       "      <td>1.000000</td>\n",
       "      <td>4.000000</td>\n",
       "      <td>200.000000</td>\n",
       "      <td>564.000000</td>\n",
       "      <td>1.000000</td>\n",
       "      <td>2.000000</td>\n",
       "      <td>202.000000</td>\n",
       "      <td>1.000000</td>\n",
       "      <td>6.200000</td>\n",
       "      <td>3.000000</td>\n",
       "      <td>3.000000</td>\n",
       "      <td>7.000000</td>\n",
       "      <td>4.000000</td>\n",
       "    </tr>\n",
       "  </tbody>\n",
       "</table>\n",
       "</div>"
      ],
      "text/plain": [
       "              age         sex          cp    trestbps        chol         fbs  \\\n",
       "count  303.000000  303.000000  303.000000  303.000000  303.000000  303.000000   \n",
       "mean    54.438944    0.679868    3.158416  131.689769  246.693069    0.148515   \n",
       "std      9.038662    0.467299    0.960126   17.599748   51.776918    0.356198   \n",
       "min     29.000000    0.000000    1.000000   94.000000  126.000000    0.000000   \n",
       "25%     48.000000    0.000000    3.000000  120.000000  211.000000    0.000000   \n",
       "50%     56.000000    1.000000    3.000000  130.000000  241.000000    0.000000   \n",
       "75%     61.000000    1.000000    4.000000  140.000000  275.000000    0.000000   \n",
       "max     77.000000    1.000000    4.000000  200.000000  564.000000    1.000000   \n",
       "\n",
       "          restecg      thalac       exang     oldpeak       slope          ca  \\\n",
       "count  303.000000  303.000000  303.000000  303.000000  303.000000  299.000000   \n",
       "mean     0.990099  149.607261    0.326733    1.039604    1.600660    0.672241   \n",
       "std      0.994971   22.875003    0.469794    1.161075    0.616226    0.937438   \n",
       "min      0.000000   71.000000    0.000000    0.000000    1.000000    0.000000   \n",
       "25%      0.000000  133.500000    0.000000    0.000000    1.000000    0.000000   \n",
       "50%      1.000000  153.000000    0.000000    0.800000    2.000000    0.000000   \n",
       "75%      2.000000  166.000000    1.000000    1.600000    2.000000    1.000000   \n",
       "max      2.000000  202.000000    1.000000    6.200000    3.000000    3.000000   \n",
       "\n",
       "             thal         num  \n",
       "count  301.000000  303.000000  \n",
       "mean     4.734219    0.937294  \n",
       "std      1.939706    1.228536  \n",
       "min      3.000000    0.000000  \n",
       "25%      3.000000    0.000000  \n",
       "50%      3.000000    0.000000  \n",
       "75%      7.000000    2.000000  \n",
       "max      7.000000    4.000000  "
      ]
     },
     "execution_count": 672,
     "metadata": {},
     "output_type": "execute_result"
    }
   ],
   "source": [
    "url = r'http://archive.ics.uci.edu/ml/machine-learning-databases/heart-disease/processed.cleveland.data'\n",
    "col_names = ['age','sex','cp','trestbps','chol','fbs','restecg','thalac','exang','oldpeak','slope','ca','thal','num']\n",
    "df = pd.read_csv(url, \n",
    "                 sep = ',', \n",
    "                 header = None, \n",
    "                 index_col = None,\n",
    "                 names = col_names,\n",
    "                 na_values = '?')\n",
    "df.describe()"
   ]
  },
  {
   "cell_type": "markdown",
   "metadata": {},
   "source": [
    "Above is a summary containing statistical key figures of the dataset in use. The data is loaded into a pandas data frame.\n",
    "\n",
    "Let's print a few key figures and make a quick histogram visualization of the data to get an idea of what we're dealing with."
   ]
  },
  {
   "cell_type": "code",
   "execution_count": 673,
   "metadata": {},
   "outputs": [
    {
     "name": "stdout",
     "output_type": "stream",
     "text": [
      "Data size: 303 rows, of which 6 (2.0 %) contain empty values.\n",
      "Healthy: 164 (54.1 %) Diseased: 139 (45.9 %)\n"
     ]
    },
    {
     "data": {
      "image/png": "[encoded data removed]",
      "text/plain": [
       "<Figure size 1008x720 with 16 Axes>"
      ]
     },
     "metadata": {
      "needs_background": "light"
     },
     "output_type": "display_data"
    }
   ],
   "source": [
    "data_size = df['num'].count()\n",
    "\n",
    "empty = df.isna().sum().sum()\n",
    "empty_p = (empty / data_size) * 100 # percentage\n",
    "\n",
    "diseased = df['num'][df['num'] > 0].count()\n",
    "diseased_p = (diseased / data_size) * 100 # percentage\n",
    "\n",
    "healthy = data_size - diseased\n",
    "healthy_p = (healthy / data_size) * 100 # percentage\n",
    "\n",
    "print(\"Data size: %d rows, of which %d (%3.1f %%) contain empty values.\" %(data_size, empty, empty_p))\n",
    "print(\"Healthy: %d (%3.1f %%) Diseased: %d (%3.1f %%)\" %(healthy, healthy_p, diseased, diseased_p))\n",
    "\n",
    "fig = df.hist(figsize=(14,10))"
   ]
  },
  {
   "cell_type": "code",
   "execution_count": 764,
   "metadata": {},
   "outputs": [],
   "source": [
    "# define a helper function to visualize each column.\n",
    "def plot_attribute(name):\n",
    "    fig, axes = plt.subplots(nrows=1, ncols=2, figsize=(8,3))\n",
    "    fig.suptitle(name, fontsize=16)\n",
    "    # histogram left\n",
    "    df[name].hist(ax = axes[0], color='green')\n",
    "    # box plot right - this may help spot outliers.\n",
    "    df[name].plot(ax = axes[1], kind='box', color=\"magenta\")\n",
    "    plt.show()"
   ]
  },
  {
   "cell_type": "markdown",
   "metadata": {},
   "source": [
    "Attribute Description\n",
    "---------------------\n",
    "\n",
    "Now we will describe each attribute in more detail and consider their significance. We will also decide for each column, if they should be excluded from the analysis."
   ]
  },
  {
   "cell_type": "code",
   "execution_count": 765,
   "metadata": {},
   "outputs": [
    {
     "data": {
      "image/png": "[encoded data removed]",
      "text/plain": [
       "<Figure size 576x216 with 2 Axes>"
      ]
     },
     "metadata": {
      "needs_background": "light"
     },
     "output_type": "display_data"
    },
    {
     "name": "stdout",
     "output_type": "stream",
     "text": [
      "min: 29.0 max: 77.0\n"
     ]
    }
   ],
   "source": [
    "plot_attribute('age')\n",
    "print(\"min:\", df['age'].min(), \"max:\", df['age'].max())"
   ]
  },
  {
   "cell_type": "markdown",
   "metadata": {},
   "source": [
    "__Patient age__ in years. Increasing age is recognized as a major risk factor for coronary disease by American Heart Association."
   ]
  },
  {
   "cell_type": "code",
   "execution_count": 766,
   "metadata": {},
   "outputs": [
    {
     "data": {
      "image/png": "[encoded data removed]",
      "text/plain": [
       "<Figure size 576x216 with 2 Axes>"
      ]
     },
     "metadata": {
      "needs_background": "light"
     },
     "output_type": "display_data"
    },
    {
     "name": "stdout",
     "output_type": "stream",
     "text": [
      "Males: 201 Females: 96\n"
     ]
    }
   ],
   "source": [
    "plot_attribute('sex')\n",
    "print(\"Males:\", len(df['sex'][df['sex']==1]), \"Females:\", len(df['sex'][df['sex']==0]))"
   ]
  },
  {
   "cell_type": "markdown",
   "metadata": {},
   "source": [
    "Value 1 denotes male __sex__. Male sex is recognized as a major risk factor for coronary disease by American Heart Association. A binary categorical variable."
   ]
  },
  {
   "cell_type": "code",
   "execution_count": 767,
   "metadata": {},
   "outputs": [
    {
     "data": {
      "image/png": "[encoded data removed]",
      "text/plain": [
       "<Figure size 576x216 with 2 Axes>"
      ]
     },
     "metadata": {
      "needs_background": "light"
     },
     "output_type": "display_data"
    }
   ],
   "source": [
    "plot_attribute('cp')"
   ]
  },
  {
   "cell_type": "markdown",
   "metadata": {},
   "source": [
    "__Chest pain type.__ This is a categorical variable. Individuals without pain are in category 4. Categories 1, 2 and 3 denote \"typical\", \"atypical\" and \"non-anginal\" pain, respectfully:\n",
    "\n",
    "- 1 Typical\n",
    "- 2 Atypical\n",
    "- 3 Non-anginal\n",
    "- 4 Asymptomatic\n",
    "\n",
    "The severities of categories 1 to 4 perhaps bear an ordinal relationship, where value 1 is the most alarming and value 4 is the least alarming. An ordinal scale variable can probably be scaled safely. Then again, one-hot encoding it into four separate columns would probably be best."
   ]
  },
  {
   "cell_type": "code",
   "execution_count": 768,
   "metadata": {},
   "outputs": [
    {
     "data": {
      "image/png": "[encoded data removed]",
      "text/plain": [
       "<Figure size 576x216 with 2 Axes>"
      ]
     },
     "metadata": {
      "needs_background": "light"
     },
     "output_type": "display_data"
    }
   ],
   "source": [
    "plot_attribute('trestbps')"
   ]
  },
  {
   "cell_type": "markdown",
   "metadata": {},
   "source": [
    "__Resting blood pressure__ on admission. Judging by the values, this is the systolic blood pressure. High blood pressure is recognized as a major risk factor for coronary disease by American Heart Association."
   ]
  },
  {
   "cell_type": "code",
   "execution_count": 769,
   "metadata": {},
   "outputs": [
    {
     "data": {
      "image/png": "[encoded data removed]",
      "text/plain": [
       "<Figure size 576x216 with 2 Axes>"
      ]
     },
     "metadata": {
      "needs_background": "light"
     },
     "output_type": "display_data"
    }
   ],
   "source": [
    "plot_attribute('chol')"
   ]
  },
  {
   "cell_type": "markdown",
   "metadata": {},
   "source": [
    "__Serum cholesterol__ in mg/dl. High blood cholesterol is recognized as a major risk factor for coronary disease by American Heart Association."
   ]
  },
  {
   "cell_type": "code",
   "execution_count": 680,
   "metadata": {},
   "outputs": [
    {
     "data": {
      "image/png": "[encoded data removed]",
      "text/plain": [
       "<Figure size 576x216 with 2 Axes>"
      ]
     },
     "metadata": {
      "needs_background": "light"
     },
     "output_type": "display_data"
    }
   ],
   "source": [
    "plot_attribute('fbs')"
   ]
  },
  {
   "cell_type": "markdown",
   "metadata": {},
   "source": [
    "High __fasting blood glucose__. A categorical variable, where value 1 denotes glucose reading above 120 mg/dl, otherwise 0.\n",
    "\n",
    "Diabetes, uncontrolled or not, is recognized as a major risk factor for coronary disease by American Heart Association.\n",
    "\n",
    "As we later examine the correlation table, we will see that __fbs__ has almost no correlation to heart disease, so we choose to exclude this feature for the sake of model simplicity."
   ]
  },
  {
   "cell_type": "code",
   "execution_count": 681,
   "metadata": {},
   "outputs": [
    {
     "data": {
      "image/png": "[encoded data removed]",
      "text/plain": [
       "<Figure size 576x216 with 2 Axes>"
      ]
     },
     "metadata": {
      "needs_background": "light"
     },
     "output_type": "display_data"
    }
   ],
   "source": [
    "plot_attribute('restecg')"
   ]
  },
  {
   "cell_type": "markdown",
   "metadata": {},
   "source": [
    "__ECG findings__, patient at rest.\n",
    "\n",
    "- 0 denotes no findings\n",
    "- 1 denotes abnormality in ST-T waveform\n",
    "- 2 denotes a finding characteristic to a condition called left ventricular hypertrophy.\n",
    "\n",
    "This categorical variable is of a nominal scale, i.e. there is no order between the values, or at least interpreting such order would be highly subjective. This is because both findings have unique diagnostic value. One-hot encoding it into three separate columns should be done. "
   ]
  },
  {
   "cell_type": "code",
   "execution_count": 682,
   "metadata": {},
   "outputs": [
    {
     "data": {
      "image/png": "[encoded data removed]",
      "text/plain": [
       "<Figure size 576x216 with 2 Axes>"
      ]
     },
     "metadata": {
      "needs_background": "light"
     },
     "output_type": "display_data"
    }
   ],
   "source": [
    "plot_attribute('thalac')"
   ]
  },
  {
   "cell_type": "markdown",
   "metadata": {},
   "source": [
    "__Maximum heart rate achieved__ during thallium-201 scintigraphy stress test. This variable should have a negative correlation to heart disease, as a young and healthy heart can beat faster than a sick and old one."
   ]
  },
  {
   "cell_type": "code",
   "execution_count": 683,
   "metadata": {},
   "outputs": [
    {
     "data": {
      "image/png": "[encoded data removed]",
      "text/plain": [
       "<Figure size 576x216 with 2 Axes>"
      ]
     },
     "metadata": {
      "needs_background": "light"
     },
     "output_type": "display_data"
    }
   ],
   "source": [
    "plot_attribute('exang')"
   ]
  },
  {
   "cell_type": "markdown",
   "metadata": {},
   "source": [
    "__Exercise-induced angina.__ Chest pain provoked by physical exertion _may_ be a sign of coronary artery disease.\n",
    "\n",
    "This is a categorical variable:\n",
    "\n",
    "- 1 Yes\n",
    "- 2 No"
   ]
  },
  {
   "cell_type": "code",
   "execution_count": 684,
   "metadata": {},
   "outputs": [
    {
     "data": {
      "image/png": "[encoded data removed]",
      "text/plain": [
       "<Figure size 576x216 with 2 Axes>"
      ]
     },
     "metadata": {
      "needs_background": "light"
     },
     "output_type": "display_data"
    }
   ],
   "source": [
    "plot_attribute('oldpeak')"
   ]
  },
  {
   "cell_type": "markdown",
   "metadata": {},
   "source": [
    "__Exercise-induced ST-level depression__ in ECG. Assumedly the unit of this variable is millimeters.\n",
    "\n",
    "Exertion testing can reveal coronary disease through demand ischemia and a subsequent ECG finding."
   ]
  },
  {
   "cell_type": "code",
   "execution_count": 685,
   "metadata": {},
   "outputs": [
    {
     "data": {
      "image/png": "[encoded data removed]",
      "text/plain": [
       "<Figure size 576x216 with 2 Axes>"
      ]
     },
     "metadata": {
      "needs_background": "light"
     },
     "output_type": "display_data"
    }
   ],
   "source": [
    "plot_attribute('slope')"
   ]
  },
  {
   "cell_type": "markdown",
   "metadata": {},
   "source": [
    "__Slope of the peak exercise ST segment.__ A categorical variable:\n",
    "\n",
    "- 1 upsloping\n",
    "- 2 flat\n",
    "- 3 downsloping\n",
    "\n",
    "ST slope is a marker of transient myocardial ischemia. An ordinal variable ranging from the least alarming 1 to the most alarming 3. Should be safely scalable."
   ]
  },
  {
   "cell_type": "code",
   "execution_count": 686,
   "metadata": {},
   "outputs": [
    {
     "data": {
      "image/png": "[encoded data removed]",
      "text/plain": [
       "<Figure size 576x216 with 2 Axes>"
      ]
     },
     "metadata": {
      "needs_background": "light"
     },
     "output_type": "display_data"
    }
   ],
   "source": [
    "plot_attribute('ca')"
   ]
  },
  {
   "cell_type": "markdown",
   "metadata": {},
   "source": [
    "__Number of major vessels__ (fluoroscopy). Assumedly, this is coronary calcification detected in fluoroscopic angiography in any three of the main vessels.\n",
    "\n",
    "- 0 No findings\n",
    "- 1 One major coronary vessel impacted\n",
    "- 2 Two major coronary vessels impacted\n",
    "- 3 Three major coronary vessels impacted\n",
    "\n",
    "This column contains a few empty values."
   ]
  },
  {
   "cell_type": "code",
   "execution_count": 687,
   "metadata": {},
   "outputs": [
    {
     "data": {
      "image/png": "[encoded data removed]",
      "text/plain": [
       "<Figure size 576x216 with 2 Axes>"
      ]
     },
     "metadata": {
      "needs_background": "light"
     },
     "output_type": "display_data"
    }
   ],
   "source": [
    "plot_attribute('thal')"
   ]
  },
  {
   "cell_type": "markdown",
   "metadata": {},
   "source": [
    "__Thallium-201 stress scintigraphy results.__\n",
    "\n",
    "- 3 Normal\n",
    "- 6 Fixed defect\n",
    "- 7 Reversable defect\n",
    "\n",
    "Reversible defect during exertion test is a sign of poor perfusion. A fixed (permanent) defect implies old myocardial infarction.\n",
    "\n",
    "This column contains a few empty values."
   ]
  },
  {
   "cell_type": "markdown",
   "metadata": {},
   "source": [
    "Preprocessing\n",
    "-------------\n",
    "\n",
    "scale or normalize the variables  \n",
    "replace missing values with zeros, means/medians or random values\n",
    "\n",
    "__Imputation (handling of empty values)__\n",
    "\n",
    "There are six samples in the dataset containing empty values. This represents 2 % of all the records, as mentioned earlier. The empty values occur in columns `ca` and `thal`, which are both problematic when it comes to inventing meaningful substitute data. Both are categorical variables containing actual clinical results, so all kinds of mean/interpolation methods will probably just create distortion and error. Therefore we choose to do listwise deletion, eliminating incomplete samples entirely."
   ]
  },
  {
   "cell_type": "code",
   "execution_count": 700,
   "metadata": {},
   "outputs": [],
   "source": [
    "# eliminate incomplete data\n",
    "df = df.dropna()"
   ]
  },
  {
   "cell_type": "markdown",
   "metadata": {},
   "source": [
    "__Splitting the Data__\n",
    "\n",
    "We now split the data into two sets, setting aside 20 percent of it in a test set. The __test set__ will only be used for final model performance evaluation, and its contents shall not be exposed to the model development process in any way.\n",
    "\n",
    "The rest 80 % of the data will be used for training and validation. The data split is done following the 60-20-20 rule introduced in class."
   ]
  },
  {
   "cell_type": "code",
   "execution_count": 688,
   "metadata": {},
   "outputs": [],
   "source": [
    "train_data, test_data = np.split(df, [int(.8*len(df)),])"
   ]
  },
  {
   "cell_type": "markdown",
   "metadata": {},
   "source": [
    "Now that data has been split, let's examine if these subsets are actually representative of the entire data. We want both training and testing sets to contain both sick and healthy individuals in roughly the same proportion as the whole dataset."
   ]
  },
  {
   "cell_type": "code",
   "execution_count": 758,
   "metadata": {},
   "outputs": [
    {
     "data": {
      "image/png": "[encoded data removed]",
      "text/plain": [
       "<Figure size 432x288 with 1 Axes>"
      ]
     },
     "metadata": {
      "needs_background": "light"
     },
     "output_type": "display_data"
    }
   ],
   "source": [
    "train_counts = train_data['num'].value_counts()\n",
    "test_counts = test_data['num'].value_counts()\n",
    "total_counts = train_counts + test_counts\n",
    "plt.bar(train_data['num'].unique()+0.125, total_counts / df['num'].count(), width=0.5, alpha=0.5)\n",
    "plt.bar(train_data['num'].unique(), train_counts / train_data['num'].count(), width=0.1)\n",
    "plt.bar(test_data['num'].unique()+0.25, test_counts / test_data['num'].count(), width=0.1)\n",
    "plt.legend(['total', 'train', 'test'], loc=3)\n",
    "plt.xticks([0.5, 1.5], labels=['healthy', 'sick'])\n",
    "plt.title('Representation of target classes in split data sets')\n",
    "\n",
    "plt.show()"
   ]
  },
  {
   "cell_type": "markdown",
   "metadata": {},
   "source": [
    "Target class distribution seems fine in both subsets. Total sick-healthy-distribution is close to 50:50, which suggests, that _accuracy_ will be a useful metric when evaluating the model.\n",
    "\n",
    "__Scaling__\n",
    "\n",
    "There are many ways to scale the data to even out each attribute's effect to the model. We could normalize it by subtracting mean and dividing by standard deviation, or standardize it by scaling its range down to -1...1. Both of these methods behave badly with outliers, compressing the inliers into a narrow range. Using sklearn's `RobustScaler` mitigates this problem.\n",
    "\n",
    "The scaling parameters are fitted to the training/validation set. The training set and test set are both then scaled using these parameters."
   ]
  },
  {
   "cell_type": "code",
   "execution_count": 689,
   "metadata": {},
   "outputs": [],
   "source": [
    "# set aside output labels, while scaling input data\n",
    "train_num = train_data['num'].values\n",
    "test_num = test_data['num'].values\n",
    "\n",
    "# using the RobustScaler that was advertised on Wednesday's lecture\n",
    "scaler = RobustScaler()\n",
    "# fit scaler parameters to the training/validation set and scale it\n",
    "train_data = pd.DataFrame(scaler.fit_transform(train_data))\n",
    "train_data.columns = col_names\n",
    "# scale the test set using the same parameters\n",
    "test_data = pd.DataFrame(scaler.transform(test_data))\n",
    "test_data.columns = col_names\n",
    "\n",
    "# replace original target labels\n",
    "train_data['num'] = (train_num > 0) * 1.0\n",
    "test_data['num'] = (test_num > 0) * 1.0"
   ]
  },
  {
   "cell_type": "markdown",
   "metadata": {},
   "source": [
    "Feature Selection\n",
    "-----------------\n",
    "\n",
    "Let's see how our input variables correlate to being affected by a heart disease. Correlation may suggest whether or not an input variable is useful or not. There are also other methods of gauging feature importance. Plain correlation is by no means a perfect measure of feature importance."
   ]
  },
  {
   "cell_type": "code",
   "execution_count": 690,
   "metadata": {},
   "outputs": [
    {
     "data": {
      "text/plain": [
       "age         0.250104\n",
       "sex         0.272576\n",
       "cp          0.448295\n",
       "trestbps    0.156313\n",
       "chol        0.112987\n",
       "fbs        -0.026038\n",
       "restecg     0.197816\n",
       "thalac     -0.457597\n",
       "exang       0.433948\n",
       "oldpeak     0.415809\n",
       "slope       0.353332\n",
       "ca          0.449147\n",
       "thal        0.525390\n",
       "num         1.000000\n",
       "Name: num, dtype: float64"
      ]
     },
     "execution_count": 690,
     "metadata": {},
     "output_type": "execute_result"
    }
   ],
   "source": [
    "train_data.corr()['num']"
   ]
  },
  {
   "cell_type": "markdown",
   "metadata": {},
   "source": [
    "Let's filter the desired columns from the dataframe and separate the input data from output labels."
   ]
  },
  {
   "cell_type": "code",
   "execution_count": 691,
   "metadata": {},
   "outputs": [],
   "source": [
    "#selected_features = ['age','sex','cp','trestbps','chol','fbs','restecg','thalac','exang','oldpeak','slope','ca','thal']\n",
    "#selected_features = ['age', 'sex', 'cp', 'trestbps', 'chol', 'thalac', 'oldpeak']\n",
    "selected_features = ['age', 'sex', 'cp', 'trestbps', 'chol', 'restecg', 'thalac', 'exang', 'oldpeak', 'slope', 'ca', 'thal']\n",
    "#selected_features = ['age', 'sex', 'trestbps', 'chol', 'thalac', 'oldpeak']\n",
    "# input\n",
    "train_X = train_data.filter(selected_features)\n",
    "test_X = test_data.filter(selected_features)\n",
    "# output\n",
    "train_y = train_data.filter(['num'])\n",
    "test_y = test_data.filter(['num'])"
   ]
  },
  {
   "cell_type": "markdown",
   "metadata": {},
   "source": [
    "Model\n",
    "-----\n",
    "\n",
    "Next, we will construct a feed-forward neural network to predict heart disease.\n",
    "\n",
    "__TODO__ Description of models, training and testing (epochs, batch sizes, solver settings), data arrangement (training/testing/validation)"
   ]
  },
  {
   "cell_type": "markdown",
   "metadata": {},
   "source": [
    "Try different neural network architectures (number of layers, number of neurons within layer), batch sizes and number of epochs, and solver settings and compare them with each other."
   ]
  },
  {
   "cell_type": "markdown",
   "metadata": {},
   "source": [
    "Try to find the simplest, fastest and smallest possible model and settings that solves the problem most accurately."
   ]
  },
  {
   "cell_type": "code",
   "execution_count": 692,
   "metadata": {},
   "outputs": [],
   "source": [
    "def create_model():\n",
    "    #reg_L2 = tf.keras.regularizers.l2(0.01)\n",
    "    model = tf.keras.models.Sequential([\n",
    "        tf.keras.layers.Dense(9, activation='sigmoid', input_shape=(train_X.shape[1],)),\n",
    "        tf.keras.layers.Dropout(0.5),\n",
    "        tf.keras.layers.Dense(4, activation='sigmoid'),\n",
    "        tf.keras.layers.Dense(1, activation='sigmoid')\n",
    "    ])\n",
    "\n",
    "    #opt = tf.keras.optimizers.SGD(lr=0.05)# lr 0.025 # decay=0.00005, \n",
    "    opt = tf.keras.optimizers.RMSprop(lr=0.025) # lr 0.025\n",
    "    #opt = tf.keras.optimizers.Adam(lr=0.001)# lr 0.018 # decay=0.00005, \n",
    "\n",
    "    model.compile(optimizer=opt,\n",
    "                  loss='binary_crossentropy',\n",
    "                  metrics=['accuracy'])\n",
    "    return model\n",
    "\n",
    "batch_size = 90\n",
    "epochs = 300"
   ]
  },
  {
   "cell_type": "code",
   "execution_count": 693,
   "metadata": {},
   "outputs": [
    {
     "name": "stdout",
     "output_type": "stream",
     "text": [
      "Model: \"sequential_54\"\n",
      "_________________________________________________________________\n",
      "Layer (type)                 Output Shape              Param #   \n",
      "=================================================================\n",
      "dense_162 (Dense)            (None, 9)                 117       \n",
      "_________________________________________________________________\n",
      "dropout_30 (Dropout)         (None, 9)                 0         \n",
      "_________________________________________________________________\n",
      "dense_163 (Dense)            (None, 4)                 40        \n",
      "_________________________________________________________________\n",
      "dense_164 (Dense)            (None, 1)                 5         \n",
      "=================================================================\n",
      "Total params: 162\n",
      "Trainable params: 162\n",
      "Non-trainable params: 0\n",
      "_________________________________________________________________\n",
      "None\n"
     ]
    }
   ],
   "source": [
    "model = create_model()\n",
    "print(model.summary())"
   ]
  },
  {
   "cell_type": "code",
   "execution_count": 694,
   "metadata": {},
   "outputs": [],
   "source": [
    "history = model.fit(np.asarray(train_X),\n",
    "                    np.asarray(train_y),\n",
    "                    verbose=0,\n",
    "                    batch_size=batch_size,\n",
    "                    validation_split=0.25,\n",
    "                    epochs=epochs)"
   ]
  },
  {
   "cell_type": "code",
   "execution_count": 695,
   "metadata": {},
   "outputs": [
    {
     "name": "stdout",
     "output_type": "stream",
     "text": [
      "237/1 - 0s - loss: 0.1998 - accuracy: 0.9198\n"
     ]
    },
    {
     "data": {
      "text/plain": [
       "[0.2903777656424398, 0.9198312]"
      ]
     },
     "execution_count": 695,
     "metadata": {},
     "output_type": "execute_result"
    }
   ],
   "source": [
    "model.evaluate(np.asarray(train_X), np.asarray(train_y), verbose=2)"
   ]
  },
  {
   "cell_type": "code",
   "execution_count": 696,
   "metadata": {},
   "outputs": [
    {
     "name": "stdout",
     "output_type": "stream",
     "text": [
      "dict_keys(['loss', 'accuracy', 'val_loss', 'val_accuracy'])\n"
     ]
    },
    {
     "data": {
      "image/png": "[encoded data removed]",
      "text/plain": [
       "<Figure size 432x288 with 1 Axes>"
      ]
     },
     "metadata": {
      "needs_background": "light"
     },
     "output_type": "display_data"
    },
    {
     "data": {
      "image/png": "[encoded data removed]",
      "text/plain": [
       "<Figure size 432x288 with 1 Axes>"
      ]
     },
     "metadata": {
      "needs_background": "light"
     },
     "output_type": "display_data"
    }
   ],
   "source": [
    "# plot loss and accuracy learning curves for training and validation sets\n",
    "\n",
    "print(history.history.keys())\n",
    "loss = history.history['loss']\n",
    "val_loss = history.history['val_loss']\n",
    "acc = history.history['accuracy']\n",
    "val_acc = history.history['val_accuracy']\n",
    "\n",
    "time = range(1,len(loss)+1)\n",
    "\n",
    "plt.plot(time, loss, 'b-')\n",
    "plt.plot(time, val_loss, 'r-')\n",
    "plt.xlabel('Epochs')\n",
    "plt.ylabel('Loss')\n",
    "plt.xlim((5,epochs))\n",
    "plt.show()\n",
    "\n",
    "plt.plot(time, acc, 'b-')\n",
    "plt.plot(time, savgol_filter(val_acc, 5, 3), 'r-')\n",
    "plt.xlabel('Epochs')\n",
    "plt.ylabel('Accuracy')\n",
    "plt.xlim((10,epochs))\n",
    "plt.show()"
   ]
  },
  {
   "cell_type": "code",
   "execution_count": 697,
   "metadata": {},
   "outputs": [
    {
     "data": {
      "text/plain": [
       "<tensorflow.python.keras.callbacks.History at 0x20ff09882c8>"
      ]
     },
     "execution_count": 697,
     "metadata": {},
     "output_type": "execute_result"
    }
   ],
   "source": [
    "# create a fresh model for final evaluation\n",
    "model = create_model()\n",
    "# train model with early stopping based on learning curve, to avoid overfitting\n",
    "# use all data: no validation set\n",
    "model.fit(np.asarray(train_X), np.asarray(train_y), verbose=0, batch_size=batch_size, epochs=170)"
   ]
  },
  {
   "cell_type": "code",
   "execution_count": 698,
   "metadata": {},
   "outputs": [
    {
     "name": "stdout",
     "output_type": "stream",
     "text": [
      "60/1 [========================================================================================================================================================================================================================================================================================================================================================================================================================================================================================================================================================================================================================================================================================================================================================================================================================================================================================================================================================================================================================================================================================================================================================================================================================================================================================================================================================================================================================================================================================================================================================================================================================================================================================================================================================================================================================================================================] - 1s 15ms/sample - loss: 0.5722 - accuracy: 0.7500\n"
     ]
    },
    {
     "data": {
      "text/plain": [
       "[0.6166181127230327, 0.75]"
      ]
     },
     "execution_count": 698,
     "metadata": {},
     "output_type": "execute_result"
    }
   ],
   "source": [
    "model.evaluate(np.asarray(test_X), np.asarray(test_y))"
   ]
  },
  {
   "cell_type": "markdown",
   "metadata": {},
   "source": [
    "Results of Final Evaluation\n",
    "---------------------------\n",
    "\n",
    "__TODO__ Results, both graphically and textually "
   ]
  },
  {
   "cell_type": "markdown",
   "metadata": {},
   "source": [
    "Conclusions\n",
    "-----------\n",
    "\n",
    "__TODO__ Conclusions (observations, achieving objectives)"
   ]
  },
  {
   "cell_type": "code",
   "execution_count": null,
   "metadata": {},
   "outputs": [],
   "source": []
  }
 ],
 "metadata": {
  "kernelspec": {
   "display_name": "Python 3",
   "language": "python",
   "name": "python3"
  },
  "language_info": {
   "codemirror_mode": {
    "name": "ipython",
    "version": 3
   },
   "file_extension": ".py",
   "mimetype": "text/x-python",
   "name": "python",
   "nbconvert_exporter": "python",
   "pygments_lexer": "ipython3",
   "version": "3.7.4"
  }
 },
 "nbformat": 4,
 "nbformat_minor": 4
}
