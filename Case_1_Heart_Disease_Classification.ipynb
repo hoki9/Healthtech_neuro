{
  "nbformat": 4,
  "nbformat_minor": 0,
  "metadata": {
    "kernelspec": {
      "display_name": "Python 3",
      "language": "python",
      "name": "python3"
    },
    "language_info": {
      "codemirror_mode": {
        "name": "ipython",
        "version": 3
      },
      "file_extension": ".py",
      "mimetype": "text/x-python",
      "name": "python",
      "nbconvert_exporter": "python",
      "pygments_lexer": "ipython3",
      "version": "3.7.4"
    },
    "colab": {
      "name": "Case 1 - Heart Disease Classification.ipynb",
      "provenance": [],
      "collapsed_sections": [],
      "include_colab_link": true
    }
  },
  "cells": [
    {
      "cell_type": "markdown",
      "metadata": {
        "id": "view-in-github",
        "colab_type": "text"
      },
      "source": [
        "<a href=\"https://colab.research.google.com/github/hoki9/Healthtech_neuro/blob/master/Case_1_Heart_Disease_Classification.ipynb\" target=\"_parent\"><img src=\"https://colab.research.google.com/assets/colab-badge.svg\" alt=\"Open In Colab\"/></a>"
      ]
    },
    {
      "cell_type": "markdown",
      "metadata": {
        "id": "hQVCeYmP5rzG",
        "colab_type": "text"
      },
      "source": [
        "Case 1 - Heart Disease Classification\n",
        "------------------------------------\n",
        "Henrik Hokkanen, Simo Mäkelä  \n",
        "23.1.2020  \n",
        "Neural Networks for Health Technology Applications  \n",
        "Helsinki Metropolia University of Applied Sciences\n",
        "\n",
        "In this exercise, the aim is to create and train a dense neural network to predict the presence of heart disease using the dataset at https://archive.ics.uci.edu/ml/datasets/Heart+Disease"
      ]
    },
    {
      "cell_type": "code",
      "metadata": {
        "id": "uYV9CQRl5rzg",
        "colab_type": "code",
        "colab": {}
      },
      "source": [
        "import numpy as np\n",
        "import pandas as pd\n",
        "import matplotlib.pyplot as plt\n",
        "from sklearn.model_selection import train_test_split\n",
        "from sklearn.preprocessing import RobustScaler\n",
        "import tensorflow as tf\n",
        "from scipy.signal import savgol_filter"
      ],
      "execution_count": 0,
      "outputs": []
    },
    {
      "cell_type": "markdown",
      "metadata": {
        "id": "n_GXs7u-5r0m",
        "colab_type": "text"
      },
      "source": [
        "__TODO__ Introduction of the data set, what data it contains, characteristics (size, attributes, missing values, descriptive statistics etc.)"
      ]
    },
    {
      "cell_type": "code",
      "metadata": {
        "id": "ZiO0ovn35r00",
        "colab_type": "code",
        "outputId": "02a98b28-6506-453c-98a8-dd890dc6405d",
        "colab": {}
      },
      "source": [
        "url = r'http://archive.ics.uci.edu/ml/machine-learning-databases/heart-disease/processed.cleveland.data'\n",
        "col_names = ['age','sex','cp','trestbps','chol','fbs','restecg','thalac','exang','oldpeak','slope','ca','thal','num']\n",
        "df = pd.read_csv(url, \n",
        "                 sep = ',', \n",
        "                 header = None, \n",
        "                 index_col = None,\n",
        "                 names = col_names,\n",
        "                 na_values = '?')\n",
        "df.dropna()\n",
        "df.describe()"
      ],
      "execution_count": 0,
      "outputs": [
        {
          "output_type": "execute_result",
          "data": {
            "text/html": [
              "<div>\n",
              "<style scoped>\n",
              "    .dataframe tbody tr th:only-of-type {\n",
              "        vertical-align: middle;\n",
              "    }\n",
              "\n",
              "    .dataframe tbody tr th {\n",
              "        vertical-align: top;\n",
              "    }\n",
              "\n",
              "    .dataframe thead th {\n",
              "        text-align: right;\n",
              "    }\n",
              "</style>\n",
              "<table border=\"1\" class=\"dataframe\">\n",
              "  <thead>\n",
              "    <tr style=\"text-align: right;\">\n",
              "      <th></th>\n",
              "      <th>age</th>\n",
              "      <th>sex</th>\n",
              "      <th>cp</th>\n",
              "      <th>trestbps</th>\n",
              "      <th>chol</th>\n",
              "      <th>fbs</th>\n",
              "      <th>restecg</th>\n",
              "      <th>thalac</th>\n",
              "      <th>exang</th>\n",
              "      <th>oldpeak</th>\n",
              "      <th>slope</th>\n",
              "      <th>ca</th>\n",
              "      <th>thal</th>\n",
              "      <th>num</th>\n",
              "    </tr>\n",
              "  </thead>\n",
              "  <tbody>\n",
              "    <tr>\n",
              "      <td>count</td>\n",
              "      <td>303.000000</td>\n",
              "      <td>303.000000</td>\n",
              "      <td>303.000000</td>\n",
              "      <td>303.000000</td>\n",
              "      <td>303.000000</td>\n",
              "      <td>303.000000</td>\n",
              "      <td>303.000000</td>\n",
              "      <td>303.000000</td>\n",
              "      <td>303.000000</td>\n",
              "      <td>303.000000</td>\n",
              "      <td>303.000000</td>\n",
              "      <td>299.000000</td>\n",
              "      <td>301.000000</td>\n",
              "      <td>303.000000</td>\n",
              "    </tr>\n",
              "    <tr>\n",
              "      <td>mean</td>\n",
              "      <td>54.438944</td>\n",
              "      <td>0.679868</td>\n",
              "      <td>3.158416</td>\n",
              "      <td>131.689769</td>\n",
              "      <td>246.693069</td>\n",
              "      <td>0.148515</td>\n",
              "      <td>0.990099</td>\n",
              "      <td>149.607261</td>\n",
              "      <td>0.326733</td>\n",
              "      <td>1.039604</td>\n",
              "      <td>1.600660</td>\n",
              "      <td>0.672241</td>\n",
              "      <td>4.734219</td>\n",
              "      <td>0.937294</td>\n",
              "    </tr>\n",
              "    <tr>\n",
              "      <td>std</td>\n",
              "      <td>9.038662</td>\n",
              "      <td>0.467299</td>\n",
              "      <td>0.960126</td>\n",
              "      <td>17.599748</td>\n",
              "      <td>51.776918</td>\n",
              "      <td>0.356198</td>\n",
              "      <td>0.994971</td>\n",
              "      <td>22.875003</td>\n",
              "      <td>0.469794</td>\n",
              "      <td>1.161075</td>\n",
              "      <td>0.616226</td>\n",
              "      <td>0.937438</td>\n",
              "      <td>1.939706</td>\n",
              "      <td>1.228536</td>\n",
              "    </tr>\n",
              "    <tr>\n",
              "      <td>min</td>\n",
              "      <td>29.000000</td>\n",
              "      <td>0.000000</td>\n",
              "      <td>1.000000</td>\n",
              "      <td>94.000000</td>\n",
              "      <td>126.000000</td>\n",
              "      <td>0.000000</td>\n",
              "      <td>0.000000</td>\n",
              "      <td>71.000000</td>\n",
              "      <td>0.000000</td>\n",
              "      <td>0.000000</td>\n",
              "      <td>1.000000</td>\n",
              "      <td>0.000000</td>\n",
              "      <td>3.000000</td>\n",
              "      <td>0.000000</td>\n",
              "    </tr>\n",
              "    <tr>\n",
              "      <td>25%</td>\n",
              "      <td>48.000000</td>\n",
              "      <td>0.000000</td>\n",
              "      <td>3.000000</td>\n",
              "      <td>120.000000</td>\n",
              "      <td>211.000000</td>\n",
              "      <td>0.000000</td>\n",
              "      <td>0.000000</td>\n",
              "      <td>133.500000</td>\n",
              "      <td>0.000000</td>\n",
              "      <td>0.000000</td>\n",
              "      <td>1.000000</td>\n",
              "      <td>0.000000</td>\n",
              "      <td>3.000000</td>\n",
              "      <td>0.000000</td>\n",
              "    </tr>\n",
              "    <tr>\n",
              "      <td>50%</td>\n",
              "      <td>56.000000</td>\n",
              "      <td>1.000000</td>\n",
              "      <td>3.000000</td>\n",
              "      <td>130.000000</td>\n",
              "      <td>241.000000</td>\n",
              "      <td>0.000000</td>\n",
              "      <td>1.000000</td>\n",
              "      <td>153.000000</td>\n",
              "      <td>0.000000</td>\n",
              "      <td>0.800000</td>\n",
              "      <td>2.000000</td>\n",
              "      <td>0.000000</td>\n",
              "      <td>3.000000</td>\n",
              "      <td>0.000000</td>\n",
              "    </tr>\n",
              "    <tr>\n",
              "      <td>75%</td>\n",
              "      <td>61.000000</td>\n",
              "      <td>1.000000</td>\n",
              "      <td>4.000000</td>\n",
              "      <td>140.000000</td>\n",
              "      <td>275.000000</td>\n",
              "      <td>0.000000</td>\n",
              "      <td>2.000000</td>\n",
              "      <td>166.000000</td>\n",
              "      <td>1.000000</td>\n",
              "      <td>1.600000</td>\n",
              "      <td>2.000000</td>\n",
              "      <td>1.000000</td>\n",
              "      <td>7.000000</td>\n",
              "      <td>2.000000</td>\n",
              "    </tr>\n",
              "    <tr>\n",
              "      <td>max</td>\n",
              "      <td>77.000000</td>\n",
              "      <td>1.000000</td>\n",
              "      <td>4.000000</td>\n",
              "      <td>200.000000</td>\n",
              "      <td>564.000000</td>\n",
              "      <td>1.000000</td>\n",
              "      <td>2.000000</td>\n",
              "      <td>202.000000</td>\n",
              "      <td>1.000000</td>\n",
              "      <td>6.200000</td>\n",
              "      <td>3.000000</td>\n",
              "      <td>3.000000</td>\n",
              "      <td>7.000000</td>\n",
              "      <td>4.000000</td>\n",
              "    </tr>\n",
              "  </tbody>\n",
              "</table>\n",
              "</div>"
            ],
            "text/plain": [
              "              age         sex          cp    trestbps        chol         fbs  \\\n",
              "count  303.000000  303.000000  303.000000  303.000000  303.000000  303.000000   \n",
              "mean    54.438944    0.679868    3.158416  131.689769  246.693069    0.148515   \n",
              "std      9.038662    0.467299    0.960126   17.599748   51.776918    0.356198   \n",
              "min     29.000000    0.000000    1.000000   94.000000  126.000000    0.000000   \n",
              "25%     48.000000    0.000000    3.000000  120.000000  211.000000    0.000000   \n",
              "50%     56.000000    1.000000    3.000000  130.000000  241.000000    0.000000   \n",
              "75%     61.000000    1.000000    4.000000  140.000000  275.000000    0.000000   \n",
              "max     77.000000    1.000000    4.000000  200.000000  564.000000    1.000000   \n",
              "\n",
              "          restecg      thalac       exang     oldpeak       slope          ca  \\\n",
              "count  303.000000  303.000000  303.000000  303.000000  303.000000  299.000000   \n",
              "mean     0.990099  149.607261    0.326733    1.039604    1.600660    0.672241   \n",
              "std      0.994971   22.875003    0.469794    1.161075    0.616226    0.937438   \n",
              "min      0.000000   71.000000    0.000000    0.000000    1.000000    0.000000   \n",
              "25%      0.000000  133.500000    0.000000    0.000000    1.000000    0.000000   \n",
              "50%      1.000000  153.000000    0.000000    0.800000    2.000000    0.000000   \n",
              "75%      2.000000  166.000000    1.000000    1.600000    2.000000    1.000000   \n",
              "max      2.000000  202.000000    1.000000    6.200000    3.000000    3.000000   \n",
              "\n",
              "             thal         num  \n",
              "count  301.000000  303.000000  \n",
              "mean     4.734219    0.937294  \n",
              "std      1.939706    1.228536  \n",
              "min      3.000000    0.000000  \n",
              "25%      3.000000    0.000000  \n",
              "50%      3.000000    0.000000  \n",
              "75%      7.000000    2.000000  \n",
              "max      7.000000    4.000000  "
            ]
          },
          "metadata": {
            "tags": []
          },
          "execution_count": 216
        }
      ]
    },
    {
      "cell_type": "markdown",
      "metadata": {
        "id": "uzVS5m4d5r1m",
        "colab_type": "text"
      },
      "source": [
        "scale or normalize the variables  \n",
        "replace missing values with zeros, means/medians or random values"
      ]
    },
    {
      "cell_type": "code",
      "metadata": {
        "id": "FAgSDbm_5r14",
        "colab_type": "code",
        "outputId": "d244e382-536c-4f37-b900-e435bbe86b88",
        "colab": {}
      },
      "source": [
        "#normalized_df = (df - df.mean()) / df.std()\n",
        "scaler = RobustScaler()\n",
        "scaled_df = pd.DataFrame(scaler.fit_transform(df))\n",
        "scaled_df.columns = col_names\n",
        "scaled_df = scaled_df.fillna(0)\n",
        "scaled_df['num'] = (df.filter(['num']) > 0) * 1.0\n",
        "#scaled_df['num'][scaled_df['num'] == 1].dropna().count() # 164 zeros, 139 ones\n",
        "scaled_df.describe()"
      ],
      "execution_count": 0,
      "outputs": [
        {
          "output_type": "execute_result",
          "data": {
            "text/html": [
              "<div>\n",
              "<style scoped>\n",
              "    .dataframe tbody tr th:only-of-type {\n",
              "        vertical-align: middle;\n",
              "    }\n",
              "\n",
              "    .dataframe tbody tr th {\n",
              "        vertical-align: top;\n",
              "    }\n",
              "\n",
              "    .dataframe thead th {\n",
              "        text-align: right;\n",
              "    }\n",
              "</style>\n",
              "<table border=\"1\" class=\"dataframe\">\n",
              "  <thead>\n",
              "    <tr style=\"text-align: right;\">\n",
              "      <th></th>\n",
              "      <th>age</th>\n",
              "      <th>sex</th>\n",
              "      <th>cp</th>\n",
              "      <th>trestbps</th>\n",
              "      <th>chol</th>\n",
              "      <th>fbs</th>\n",
              "      <th>restecg</th>\n",
              "      <th>thalac</th>\n",
              "      <th>exang</th>\n",
              "      <th>oldpeak</th>\n",
              "      <th>slope</th>\n",
              "      <th>ca</th>\n",
              "      <th>thal</th>\n",
              "      <th>num</th>\n",
              "    </tr>\n",
              "  </thead>\n",
              "  <tbody>\n",
              "    <tr>\n",
              "      <td>count</td>\n",
              "      <td>303.000000</td>\n",
              "      <td>303.000000</td>\n",
              "      <td>303.000000</td>\n",
              "      <td>303.000000</td>\n",
              "      <td>303.000000</td>\n",
              "      <td>303.000000</td>\n",
              "      <td>303.000000</td>\n",
              "      <td>303.000000</td>\n",
              "      <td>303.000000</td>\n",
              "      <td>303.000000</td>\n",
              "      <td>303.000000</td>\n",
              "      <td>303.000000</td>\n",
              "      <td>303.000000</td>\n",
              "      <td>303.000000</td>\n",
              "    </tr>\n",
              "    <tr>\n",
              "      <td>mean</td>\n",
              "      <td>-0.120081</td>\n",
              "      <td>-0.320132</td>\n",
              "      <td>0.158416</td>\n",
              "      <td>0.084488</td>\n",
              "      <td>0.088954</td>\n",
              "      <td>0.148515</td>\n",
              "      <td>-0.004950</td>\n",
              "      <td>-0.104392</td>\n",
              "      <td>0.326733</td>\n",
              "      <td>0.149752</td>\n",
              "      <td>-0.399340</td>\n",
              "      <td>0.663366</td>\n",
              "      <td>0.430693</td>\n",
              "      <td>0.458746</td>\n",
              "    </tr>\n",
              "    <tr>\n",
              "      <td>std</td>\n",
              "      <td>0.695282</td>\n",
              "      <td>0.467299</td>\n",
              "      <td>0.960126</td>\n",
              "      <td>0.879987</td>\n",
              "      <td>0.809014</td>\n",
              "      <td>0.356198</td>\n",
              "      <td>0.497486</td>\n",
              "      <td>0.703846</td>\n",
              "      <td>0.469794</td>\n",
              "      <td>0.725672</td>\n",
              "      <td>0.616226</td>\n",
              "      <td>0.934375</td>\n",
              "      <td>0.484596</td>\n",
              "      <td>0.499120</td>\n",
              "    </tr>\n",
              "    <tr>\n",
              "      <td>min</td>\n",
              "      <td>-2.076923</td>\n",
              "      <td>-1.000000</td>\n",
              "      <td>-2.000000</td>\n",
              "      <td>-1.800000</td>\n",
              "      <td>-1.796875</td>\n",
              "      <td>0.000000</td>\n",
              "      <td>-0.500000</td>\n",
              "      <td>-2.523077</td>\n",
              "      <td>0.000000</td>\n",
              "      <td>-0.500000</td>\n",
              "      <td>-1.000000</td>\n",
              "      <td>0.000000</td>\n",
              "      <td>0.000000</td>\n",
              "      <td>0.000000</td>\n",
              "    </tr>\n",
              "    <tr>\n",
              "      <td>25%</td>\n",
              "      <td>-0.615385</td>\n",
              "      <td>-1.000000</td>\n",
              "      <td>0.000000</td>\n",
              "      <td>-0.500000</td>\n",
              "      <td>-0.468750</td>\n",
              "      <td>0.000000</td>\n",
              "      <td>-0.500000</td>\n",
              "      <td>-0.600000</td>\n",
              "      <td>0.000000</td>\n",
              "      <td>-0.500000</td>\n",
              "      <td>-1.000000</td>\n",
              "      <td>0.000000</td>\n",
              "      <td>0.000000</td>\n",
              "      <td>0.000000</td>\n",
              "    </tr>\n",
              "    <tr>\n",
              "      <td>50%</td>\n",
              "      <td>0.000000</td>\n",
              "      <td>0.000000</td>\n",
              "      <td>0.000000</td>\n",
              "      <td>0.000000</td>\n",
              "      <td>0.000000</td>\n",
              "      <td>0.000000</td>\n",
              "      <td>0.000000</td>\n",
              "      <td>0.000000</td>\n",
              "      <td>0.000000</td>\n",
              "      <td>0.000000</td>\n",
              "      <td>0.000000</td>\n",
              "      <td>0.000000</td>\n",
              "      <td>0.000000</td>\n",
              "      <td>0.000000</td>\n",
              "    </tr>\n",
              "    <tr>\n",
              "      <td>75%</td>\n",
              "      <td>0.384615</td>\n",
              "      <td>0.000000</td>\n",
              "      <td>1.000000</td>\n",
              "      <td>0.500000</td>\n",
              "      <td>0.531250</td>\n",
              "      <td>0.000000</td>\n",
              "      <td>0.500000</td>\n",
              "      <td>0.400000</td>\n",
              "      <td>1.000000</td>\n",
              "      <td>0.500000</td>\n",
              "      <td>0.000000</td>\n",
              "      <td>1.000000</td>\n",
              "      <td>1.000000</td>\n",
              "      <td>1.000000</td>\n",
              "    </tr>\n",
              "    <tr>\n",
              "      <td>max</td>\n",
              "      <td>1.615385</td>\n",
              "      <td>0.000000</td>\n",
              "      <td>1.000000</td>\n",
              "      <td>3.500000</td>\n",
              "      <td>5.046875</td>\n",
              "      <td>1.000000</td>\n",
              "      <td>0.500000</td>\n",
              "      <td>1.507692</td>\n",
              "      <td>1.000000</td>\n",
              "      <td>3.375000</td>\n",
              "      <td>1.000000</td>\n",
              "      <td>3.000000</td>\n",
              "      <td>1.000000</td>\n",
              "      <td>1.000000</td>\n",
              "    </tr>\n",
              "  </tbody>\n",
              "</table>\n",
              "</div>"
            ],
            "text/plain": [
              "              age         sex          cp    trestbps        chol         fbs  \\\n",
              "count  303.000000  303.000000  303.000000  303.000000  303.000000  303.000000   \n",
              "mean    -0.120081   -0.320132    0.158416    0.084488    0.088954    0.148515   \n",
              "std      0.695282    0.467299    0.960126    0.879987    0.809014    0.356198   \n",
              "min     -2.076923   -1.000000   -2.000000   -1.800000   -1.796875    0.000000   \n",
              "25%     -0.615385   -1.000000    0.000000   -0.500000   -0.468750    0.000000   \n",
              "50%      0.000000    0.000000    0.000000    0.000000    0.000000    0.000000   \n",
              "75%      0.384615    0.000000    1.000000    0.500000    0.531250    0.000000   \n",
              "max      1.615385    0.000000    1.000000    3.500000    5.046875    1.000000   \n",
              "\n",
              "          restecg      thalac       exang     oldpeak       slope          ca  \\\n",
              "count  303.000000  303.000000  303.000000  303.000000  303.000000  303.000000   \n",
              "mean    -0.004950   -0.104392    0.326733    0.149752   -0.399340    0.663366   \n",
              "std      0.497486    0.703846    0.469794    0.725672    0.616226    0.934375   \n",
              "min     -0.500000   -2.523077    0.000000   -0.500000   -1.000000    0.000000   \n",
              "25%     -0.500000   -0.600000    0.000000   -0.500000   -1.000000    0.000000   \n",
              "50%      0.000000    0.000000    0.000000    0.000000    0.000000    0.000000   \n",
              "75%      0.500000    0.400000    1.000000    0.500000    0.000000    1.000000   \n",
              "max      0.500000    1.507692    1.000000    3.375000    1.000000    3.000000   \n",
              "\n",
              "             thal         num  \n",
              "count  303.000000  303.000000  \n",
              "mean     0.430693    0.458746  \n",
              "std      0.484596    0.499120  \n",
              "min      0.000000    0.000000  \n",
              "25%      0.000000    0.000000  \n",
              "50%      0.000000    0.000000  \n",
              "75%      1.000000    1.000000  \n",
              "max      1.000000    1.000000  "
            ]
          },
          "metadata": {
            "tags": []
          },
          "execution_count": 217
        }
      ]
    },
    {
      "cell_type": "markdown",
      "metadata": {
        "id": "8tSEg29D5r2l",
        "colab_type": "text"
      },
      "source": [
        "separate the data/input and labels/output"
      ]
    },
    {
      "cell_type": "code",
      "metadata": {
        "id": "xZNg7ZIV5r2z",
        "colab_type": "code",
        "outputId": "0dbbba5f-50b7-4656-e350-c03c5c378da6",
        "colab": {}
      },
      "source": [
        "train_data, test_data = train_test_split(scaled_df, test_size=0.2, shuffle=False)\n",
        "train_data.corr()['num']"
      ],
      "execution_count": 0,
      "outputs": [
        {
          "output_type": "execute_result",
          "data": {
            "text/plain": [
              "age         0.251275\n",
              "sex         0.275722\n",
              "cp          0.455058\n",
              "trestbps    0.159502\n",
              "chol        0.112902\n",
              "fbs        -0.008312\n",
              "restecg     0.206846\n",
              "thalac     -0.450983\n",
              "exang       0.443474\n",
              "oldpeak     0.418219\n",
              "slope       0.364258\n",
              "ca          0.449891\n",
              "thal        0.534191\n",
              "num         1.000000\n",
              "Name: num, dtype: float64"
            ]
          },
          "metadata": {
            "tags": []
          },
          "execution_count": 218
        }
      ]
    },
    {
      "cell_type": "markdown",
      "metadata": {
        "id": "dp0DSmIB5r3h",
        "colab_type": "text"
      },
      "source": [
        "feature selection"
      ]
    },
    {
      "cell_type": "code",
      "metadata": {
        "id": "tnhSFAmc5r3s",
        "colab_type": "code",
        "colab": {}
      },
      "source": [
        "#selected_features = ['age','sex','cp','trestbps','chol','fbs','restecg','thalac','exang','oldpeak','slope','ca','thal']\n",
        "selected_features = ['age', 'sex', 'cp', 'trestbps', 'chol', 'thalac', 'oldpeak']\n",
        "#selected_features = ['age', 'sex', 'trestbps', 'chol', 'thalac', 'oldpeak']\n",
        "# input\n",
        "train_X = train_data.filter(selected_features)\n",
        "test_X = test_data.filter(selected_features)\n",
        "# output\n",
        "train_y = train_data.filter(['num'])\n",
        "test_y = test_data.filter(['num'])"
      ],
      "execution_count": 0,
      "outputs": []
    },
    {
      "cell_type": "markdown",
      "metadata": {
        "id": "Qa1uujxh5r4h",
        "colab_type": "text"
      },
      "source": [
        "__TODO__ Description of models, training and testing (epochs, batch sizes, solver settings), data arrangement (training/testing/validation)"
      ]
    },
    {
      "cell_type": "markdown",
      "metadata": {
        "id": "R7tGgdnP5r4t",
        "colab_type": "text"
      },
      "source": [
        "Try different neural network architectures (number of layers, number of neurons within layer), batch sizes and number of epochs, and solver settings and compare them with each other."
      ]
    },
    {
      "cell_type": "markdown",
      "metadata": {
        "id": "n_W-vTvX5r47",
        "colab_type": "text"
      },
      "source": [
        "Try to find the simplest, fastest and smallest possible model and settings that solves the problem most accurately."
      ]
    },
    {
      "cell_type": "code",
      "metadata": {
        "id": "fszkQuY25r5M",
        "colab_type": "code",
        "outputId": "1a4d80a0-8026-4716-f8ba-4ea6550eee41",
        "colab": {}
      },
      "source": [
        "#reg_L2 = tf.keras.regularizers.l2(0.01)\n",
        "model = tf.keras.models.Sequential([\n",
        "    tf.keras.layers.Dense(9, activation='sigmoid', input_shape=(train_X.shape[1],)),\n",
        "    tf.keras.layers.Dropout(0.2),\n",
        "    tf.keras.layers.Dense(4, activation='sigmoid'),\n",
        "    tf.keras.layers.Dense(1, activation='sigmoid')\n",
        "])\n",
        "\n",
        "#opt = tf.keras.optimizers.SGD(lr=0.05)# lr 0.025 # decay=0.00005, \n",
        "opt = tf.keras.optimizers.RMSprop(lr=0.025) # lr 0.025\n",
        "#opt = tf.keras.optimizers.Adam(lr=0.001)# lr 0.018 # decay=0.00005, \n",
        "\n",
        "model.compile(optimizer=opt,\n",
        "              loss='binary_crossentropy',\n",
        "              metrics=['accuracy'])\n",
        "\n",
        "print(model.summary())"
      ],
      "execution_count": 0,
      "outputs": [
        {
          "output_type": "stream",
          "text": [
            "Model: \"sequential_40\"\n",
            "_________________________________________________________________\n",
            "Layer (type)                 Output Shape              Param #   \n",
            "=================================================================\n",
            "dense_120 (Dense)            (None, 9)                 72        \n",
            "_________________________________________________________________\n",
            "dropout_16 (Dropout)         (None, 9)                 0         \n",
            "_________________________________________________________________\n",
            "dense_121 (Dense)            (None, 4)                 40        \n",
            "_________________________________________________________________\n",
            "dense_122 (Dense)            (None, 1)                 5         \n",
            "=================================================================\n",
            "Total params: 117\n",
            "Trainable params: 117\n",
            "Non-trainable params: 0\n",
            "_________________________________________________________________\n",
            "None\n"
          ],
          "name": "stdout"
        }
      ]
    },
    {
      "cell_type": "code",
      "metadata": {
        "id": "X73-vIqp5r59",
        "colab_type": "code",
        "colab": {}
      },
      "source": [
        "history = model.fit(np.asarray(train_X), np.asarray(train_y), verbose=0, batch_size=90, validation_split=0.25, epochs=300)\n",
        "\n",
        "#model.evaluate(np.asarray(test_data), np.asarray(test_labels), verbose=2)"
      ],
      "execution_count": 0,
      "outputs": []
    },
    {
      "cell_type": "code",
      "metadata": {
        "id": "wMCJW9zQ5r7a",
        "colab_type": "code",
        "outputId": "9882c369-d9ab-478d-a586-fd8efdc2ea8f",
        "colab": {}
      },
      "source": [
        "# Plot the training + validation loss and mean absolute error\n",
        "\n",
        "print(history.history.keys())\n",
        "loss = history.history['loss']\n",
        "val_loss = history.history['val_loss']\n",
        "acc = history.history['accuracy']\n",
        "val_acc = history.history['val_accuracy']\n",
        "\n",
        "time = range(1,len(loss)+1)\n",
        "\n",
        "plt.plot(time, loss, 'b-')\n",
        "plt.plot(time, val_loss, 'r-')\n",
        "plt.xlabel('Epochs')\n",
        "plt.ylabel('Loss')\n",
        "plt.xlim((5,300))\n",
        "plt.show()\n",
        "\n",
        "plt.plot(time, acc, 'b-')\n",
        "plt.plot(time, savgol_filter(val_acc, 5, 3), 'r-')\n",
        "plt.xlabel('Epochs')\n",
        "plt.ylabel('Accuracy')\n",
        "plt.xlim((10,300))\n",
        "plt.show()"
      ],
      "execution_count": 0,
      "outputs": [
        {
          "output_type": "stream",
          "text": [
            "dict_keys(['loss', 'accuracy', 'val_loss', 'val_accuracy'])\n"
          ],
          "name": "stdout"
        },
        {
          "output_type": "display_data",
          "data": {
            "image/png": "[encoded data removed]",
            "text/plain": [
              "<Figure size 432x288 with 1 Axes>"
            ]
          },
          "metadata": {
            "tags": [],
            "needs_background": "light"
          }
        },
        {
          "output_type": "display_data",
          "data": {
            "image/png": "[encoded data removed]",
            "text/plain": [
              "<Figure size 432x288 with 1 Axes>"
            ]
          },
          "metadata": {
            "tags": [],
            "needs_background": "light"
          }
        }
      ]
    },
    {
      "cell_type": "code",
      "metadata": {
        "id": "U9w-los35r8S",
        "colab_type": "code",
        "colab": {}
      },
      "source": [
        "model = tf.keras.models.Sequential([\n",
        "    tf.keras.layers.Dense(9, activation='sigmoid', input_shape=(train_X.shape[1],)),\n",
        "    tf.keras.layers.Dropout(0.2),\n",
        "    tf.keras.layers.Dense(4, activation='sigmoid'),\n",
        "    tf.keras.layers.Dense(1, activation='sigmoid')\n",
        "])\n",
        "\n",
        "#opt = tf.keras.optimizers.SGD(lr=0.05)# lr 0.025 # decay=0.00005, \n",
        "opt = tf.keras.optimizers.RMSprop(lr=0.025) # lr 0.025\n",
        "#opt = tf.keras.optimizers.Adam(lr=0.001)# lr 0.018 # decay=0.00005, \n",
        "\n",
        "model.compile(optimizer=opt,\n",
        "              loss='binary_crossentropy',\n",
        "              metrics=['accuracy'])"
      ],
      "execution_count": 0,
      "outputs": []
    },
    {
      "cell_type": "code",
      "metadata": {
        "id": "fUinvchm5r9F",
        "colab_type": "code",
        "outputId": "c7838619-5bc1-4642-fb85-4c0315a49bf4",
        "colab": {}
      },
      "source": [
        "# Train model with early stopping based on learning curve, to avoid overfitting.\n",
        "# Use all data: no validation set.\n",
        "model.fit(np.asarray(train_X), np.asarray(train_y), verbose=0, batch_size=90, epochs=170)"
      ],
      "execution_count": 0,
      "outputs": [
        {
          "output_type": "execute_result",
          "data": {
            "text/plain": [
              "<tensorflow.python.keras.callbacks.History at 0x20fdba3fa08>"
            ]
          },
          "metadata": {
            "tags": []
          },
          "execution_count": 224
        }
      ]
    },
    {
      "cell_type": "code",
      "metadata": {
        "id": "2M38bK_t5r9v",
        "colab_type": "code",
        "outputId": "f9fd856b-05dc-440c-c2eb-c9ad9ef0e171",
        "colab": {}
      },
      "source": [
        "model.evaluate(np.asarray(test_X), np.asarray(test_y))"
      ],
      "execution_count": 0,
      "outputs": [
        {
          "output_type": "stream",
          "text": [
            "61/1 [======================================================================================================================================================================================================================================================================================================================================================================================================================================================================================================================================================================================================================================================================================================================================================================================================================================================================================================================================================================================================================================================================================================================================================================================================================================================================================================================================================================================================================================================================================================================================================================================================================================================================================================================================================================================================================================================================================================] - 1s 14ms/sample - loss: 0.6193 - accuracy: 0.7705\n"
          ],
          "name": "stdout"
        },
        {
          "output_type": "execute_result",
          "data": {
            "text/plain": [
              "[0.6400451103194815, 0.7704918]"
            ]
          },
          "metadata": {
            "tags": []
          },
          "execution_count": 225
        }
      ]
    },
    {
      "cell_type": "markdown",
      "metadata": {
        "id": "1UnQbfY65r-h",
        "colab_type": "text"
      },
      "source": [
        "__TODO__ Results, both graphically and textually "
      ]
    },
    {
      "cell_type": "markdown",
      "metadata": {
        "id": "BXtgEnKo5r-0",
        "colab_type": "text"
      },
      "source": [
        "__TODO__ Conclusions (observations, achieving objectives)"
      ]
    },
    {
      "cell_type": "code",
      "metadata": {
        "id": "iGtE64Gi5r_K",
        "colab_type": "code",
        "colab": {}
      },
      "source": [
        ""
      ],
      "execution_count": 0,
      "outputs": []
    }
  ]
}